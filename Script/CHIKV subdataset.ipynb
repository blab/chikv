{
 "cells": [
  {
   "cell_type": "code",
   "execution_count": 1,
   "metadata": {
    "collapsed": false
   },
   "outputs": [
    {
     "name": "stdout",
     "output_type": "stream",
     "text": [
      "done. wrote 35 sequences to file.\n",
      "Oceania Region: 0\n",
      "Africa Region: 0\n",
      "North America Region: 0\n"
     ]
    }
   ],
   "source": [
    "from Bio import SeqIO # Biopython is great for parsing sequence files. Import the part we need (SeqIO).\n",
    "\n",
    "input = open('756257229307-GenomeFastaResultsCHIKV.fasta', 'r') # Open your sequence file in read mode ('r'). Put the script.py and the input.fasta in the same directory.\n",
    "output = open('host_mtdna.fasta', 'w') # Open a file, named 'host_mtdna.fasta', in write mode ('w') to put the output.\n",
    "\n",
    "\n",
    "seqlist = [] # Empty list to hold the sequence objects\n",
    "\n",
    "for entry in SeqIO.parse(input, 'fasta'): # Parse each sequence in the input file; tell biopython to expect fasta format.\n",
    "\tseqlist.append(entry) # Add this sequence object to our list\n",
    "\n",
    "\n",
    "interestingCountries = [\"Zanzibar\", \"Thailand\", \"U.S. Virgin Islands\"]\n",
    "interestingYears = range(1823,2013) \n",
    "                        # [year1, year1+1, year1+2, year1+3, ... year2] \n",
    "\n",
    "\n",
    "counter = 0 # Keep track of how many sequences matched\n",
    "# count number of CHIKV viruses per region\n",
    "oceania = 0\n",
    "africa = 0\n",
    "n_america = 0\n",
    "for entry in seqlist: # Each sequence object has some attributes stored that we want to access. \n",
    "\t\n",
    "\tdata = entry.description  # This is an instance of `object.attribute` syntax; it will pull the sequence object, and look for the header attached to it\n",
    "\tdata = data.split('|') # accessionNumber|blah|blah|...|country|year --> [ accessionNumber, blah, blah, ..., country, year]\n",
    "\tcountry = data[-2] # second from the end\n",
    "\tyear = data[-1] # need to look just for year, not month or day \n",
    "    # should I include data that doesn't have a year? \n",
    "\tif year != \"NA\": # isolate the year from year_month_day format given\n",
    "\t\tnew_year = year.split('_')\n",
    "\t\tyear = int(new_year[0])\n",
    "\t'''region = data[index_number_tbd]\n",
    "       if region == \"Oceania\":\n",
    "           oceania += 1\n",
    "       elif region == \"Africa\":\n",
    "           africa += 1\n",
    "       elif region == \"North America\":\n",
    "           n_america += 1\n",
    "       '''    \n",
    "\tif country in interestingCountries and year in interestingYears: # If it's from a country and year we care about...\n",
    "\t\tSeqIO.write(entry, output, 'fasta') # Write the sequence object to the output file we made in fasta format\n",
    "\t\tcounter += 1\n",
    "\t\t\n",
    "# Then it will move on to the next sequence object and keep going until you finish all the sequences.\n",
    "\n",
    "print 'done. wrote ' + str(counter) + ' sequences to file.' # Print how many interesting sequences we found. \n",
    "print 'Oceania Region: ' + str(oceania) + ' sequences'\n",
    "print 'Africa Region: ' + str(africa) + ' sequences'\n",
    "print 'North America Region: ' + str(n_america) + ' sequences'"
   ]
  },
  {
   "cell_type": "code",
   "execution_count": null,
   "metadata": {
    "collapsed": true
   },
   "outputs": [],
   "source": []
  }
 ],
 "metadata": {
  "kernelspec": {
   "display_name": "Python 2",
   "language": "python",
   "name": "python2"
  },
  "language_info": {
   "codemirror_mode": {
    "name": "ipython",
    "version": 2
   },
   "file_extension": ".py",
   "mimetype": "text/x-python",
   "name": "python",
   "nbconvert_exporter": "python",
   "pygments_lexer": "ipython2",
   "version": "2.7.12"
  }
 },
 "nbformat": 4,
 "nbformat_minor": 0
}
