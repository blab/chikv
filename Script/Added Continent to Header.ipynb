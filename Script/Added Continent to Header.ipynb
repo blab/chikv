{
 "cells": [
  {
   "cell_type": "code",
   "execution_count": 7,
   "metadata": {
    "collapsed": false
   },
   "outputs": [],
   "source": [
    "from Bio import SeqIO # Biopython is great for parsing sequence files. Import the part we need (SeqIO).\n",
    "import os\n",
    "os.chdir('../Alignments')\n",
    "\n",
    "input = open('new_E1gene_extraction.fasta', 'r') # Open your sequence file in read mode ('r'). Put the script.py and the input.fasta in the same directory.\n",
    "output = open('added_continent.fasta', 'w') # Open a file in write mode ('w') to put the output.\n",
    "\n",
    "seqlist = []\n",
    "for entry in SeqIO.parse(input, 'fasta'): # Parse each sequence in the input file; tell biopython to expect fasta format.\n",
    "\tseqlist.append(entry) # Add this sequence object to our list\n",
    "\n",
    "africa = [\"Angola\", \"Cameroon\", \"Central_African_Republic\", \"Comoros\", \"Democratic_Republic_of_the_Congo\",\n",
    "         \"Gabon\", \"Mauritius\", \"Mayotte\", \"Nigeria\", \"Reunion\", \"Senegal\", \"Seychelles\", \"South_Africa\",\n",
    "         \"Tanzania\"]\n",
    "oceania = [\"Australia\", \"French_Polynesia\", \"Micronesia\", \"Papua_New_Guinea\" \"Tonga\"]\n",
    "n_america = [\"British_Virgin_Islands\", \"Dominican_Republic\", \"El_Salvador\", \"Haiti\",\n",
    "            \"Honduras\", \"Mexico\", \"Nicaragua\", \"Panama\", \"Puerto_Rico\", \"Saint_Lucia\"\n",
    "            \"Trinidad_and_Tobago\", \"USA\"]\n",
    "\n",
    "continent = \"\"\n",
    "for seqobject in seqlist:\n",
    "\theader = seqobject.description\n",
    "\tsequence = str(seqobject.seq)\n",
    "\theader = header.split('|') # accessionNumber|blah|blah|...|country|year --> [ accessionNumber, blah, blah, ..., country, year]\n",
    "    #access accession number\n",
    "\taccession_num = header[0]\n",
    "    #access virus strain\n",
    "\tstrain = header[1]\n",
    "    #access country\n",
    "\tcountry = header[2]\n",
    "\tif country in africa:\n",
    "\t\tcontinent = \"Africa\"\n",
    "\telif country in oceania:\n",
    "\t\tcontinent = \"Oceania\"\n",
    "\telif country in n_america:\n",
    "\t\tcontinent = \"North_America\"\n",
    "\tyear = header[-1]\n",
    "\theader = str(accession_num) + \"|\" + str(strain) + \"|\" + country + \"|\" + continent + \"|\" + str(year) \n",
    "\toutput.write('>'+header+'\\n'+sequence+'\\n') # '\\n' inserts a new line \n",
    "\n",
    "\n"
   ]
  },
  {
   "cell_type": "code",
   "execution_count": null,
   "metadata": {
    "collapsed": true
   },
   "outputs": [],
   "source": []
  }
 ],
 "metadata": {
  "kernelspec": {
   "display_name": "Python 2",
   "language": "python",
   "name": "python2"
  },
  "language_info": {
   "codemirror_mode": {
    "name": "ipython",
    "version": 2
   },
   "file_extension": ".py",
   "mimetype": "text/x-python",
   "name": "python",
   "nbconvert_exporter": "python",
   "pygments_lexer": "ipython2",
   "version": "2.7.12"
  }
 },
 "nbformat": 4,
 "nbformat_minor": 0
}
