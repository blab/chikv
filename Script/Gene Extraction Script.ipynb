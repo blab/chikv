{
 "cells": [
  {
   "cell_type": "code",
   "execution_count": 2,
   "metadata": {
    "collapsed": true
   },
   "outputs": [],
   "source": [
    "from Bio import SeqIO # Biopython is great for parsing sequence files. Import the part we need (SeqIO).\n",
    "import os\n",
    "os.chdir('../Alignments')\n",
    "\n",
    "input = open('chikv_new.fasta', 'r') # Open your sequence file in read mode ('r'). Put the script.py and the input.fasta in the same directory.\n",
    "output = open('new_E1gene_extraction.fasta', 'w') # Open a file in write mode ('w') to put the output.\n",
    "\n",
    "seqlist = []\n",
    "for entry in SeqIO.parse(input, 'fasta'): # Parse each sequence in the input file; tell biopython to expect fasta format.\n",
    "\tseqlist.append(entry) # Add this sequence object to our list\n",
    "    \n",
    "for seqobject in seqlist:\n",
    "    header = seqobject.description\n",
    "    fullsequence = str(seqobject.seq)\n",
    "    genesequence = fullsequence[10527 : 10790] #pay attention -- does python slice strings to INCLUDE or EXLUDE the last index?\n",
    "    output.write('>'+header+'\\n'+genesequence+'\\n')"
   ]
  },
  {
   "cell_type": "code",
   "execution_count": null,
   "metadata": {
    "collapsed": true
   },
   "outputs": [],
   "source": []
  }
 ],
 "metadata": {
  "kernelspec": {
   "display_name": "Python 2",
   "language": "python",
   "name": "python2"
  },
  "language_info": {
   "codemirror_mode": {
    "name": "ipython",
    "version": 2
   },
   "file_extension": ".py",
   "mimetype": "text/x-python",
   "name": "python",
   "nbconvert_exporter": "python",
   "pygments_lexer": "ipython2",
   "version": "2.7.12"
  }
 },
 "nbformat": 4,
 "nbformat_minor": 0
}
