{
 "cells": [
  {
   "cell_type": "code",
   "execution_count": 18,
   "metadata": {
    "collapsed": false
   },
   "outputs": [
    {
     "name": "stdout",
     "output_type": "stream",
     "text": [
      "1978_09_01_extraction\n",
      "1956_04_extraction\n",
      "NA_extraction\n"
     ]
    },
    {
     "ename": "ValueError",
     "evalue": "invalid literal for int() with base 10: 'NA'",
     "output_type": "error",
     "traceback": [
      "\u001b[0;31m---------------------------------------------------------------------------\u001b[0m",
      "\u001b[0;31mValueError\u001b[0m                                Traceback (most recent call last)",
      "\u001b[0;32m<ipython-input-18-bef47c6771fe>\u001b[0m in \u001b[0;36m<module>\u001b[0;34m()\u001b[0m\n\u001b[1;32m     18\u001b[0m         \u001b[0;32mif\u001b[0m \u001b[0myear\u001b[0m \u001b[0;34m!=\u001b[0m \u001b[0;34m'NA'\u001b[0m\u001b[0;34m:\u001b[0m \u001b[0;31m# isolate the year from year_month_day format given\u001b[0m\u001b[0;34m\u001b[0m\u001b[0m\n\u001b[1;32m     19\u001b[0m                 \u001b[0mnew_year\u001b[0m \u001b[0;34m=\u001b[0m \u001b[0myear\u001b[0m\u001b[0;34m.\u001b[0m\u001b[0msplit\u001b[0m\u001b[0;34m(\u001b[0m\u001b[0;34m'_'\u001b[0m\u001b[0;34m)\u001b[0m\u001b[0;34m\u001b[0m\u001b[0m\n\u001b[0;32m---> 20\u001b[0;31m                 \u001b[0myear\u001b[0m \u001b[0;34m=\u001b[0m \u001b[0mint\u001b[0m\u001b[0;34m(\u001b[0m\u001b[0mnew_year\u001b[0m\u001b[0;34m[\u001b[0m\u001b[0;36m0\u001b[0m\u001b[0;34m]\u001b[0m\u001b[0;34m)\u001b[0m\u001b[0;34m\u001b[0m\u001b[0m\n\u001b[0m\u001b[1;32m     21\u001b[0m         \u001b[0;32mfor\u001b[0m \u001b[0mmetadata\u001b[0m \u001b[0;32min\u001b[0m \u001b[0mheader\u001b[0m\u001b[0;34m:\u001b[0m\u001b[0;34m\u001b[0m\u001b[0m\n\u001b[1;32m     22\u001b[0m                 \u001b[0mheader\u001b[0m \u001b[0;34m=\u001b[0m \u001b[0mmetadata\u001b[0m \u001b[0;34m+\u001b[0m \u001b[0;34m\"|\"\u001b[0m\u001b[0;34m\u001b[0m\u001b[0m\n",
      "\u001b[0;31mValueError\u001b[0m: invalid literal for int() with base 10: 'NA'"
     ]
    }
   ],
   "source": [
    "from Bio import SeqIO # Biopython is great for parsing sequence files. Import the part we need (SeqIO).\n",
    "import os\n",
    "os.chdir('../Alignments')\n",
    "\n",
    "input = open('original subsample extraction for E1 Gene.fasta copy', 'r') # Open your sequence file in read mode ('r'). Put the script.py and the input.fasta in the same directory.\n",
    "output = open('extraction E1 fixed year.fasta', 'w') # Open a file in write mode ('w') to put the output.\n",
    "\n",
    "seqlist = []\n",
    "for entry in SeqIO.parse(input, 'fasta'): # Parse each sequence in the input file; tell biopython to expect fasta format.\n",
    "\tseqlist.append(entry) # Add this sequence object to our list\n",
    "\n",
    "for entry in seqlist: # Each sequence object has some attributes stored that we want to access. \t\n",
    "\theader = entry.description  # This is an instance of `object.attribute` syntax; it will pull the sequence object, and look for the header attached to it\n",
    "\tsequence = str(entry.seq) # Pull the sequence information; another instance of `object.attribute` \n",
    "\theader = header.split('|') # accessionNumber|blah|blah|...|country|year --> [ accessionNumber, blah, blah, ..., country, year]\n",
    "\tyear = header[-1] # need to look just for year, not month or day \n",
    "\tprint year\n",
    "\tif year != 'NA_extraction': # isolate the year from year_month_day format given\n",
    "\t\tnew_year = year.split('_')\n",
    "\t\tyear = int(new_year[0])\n",
    "\tfor metadata in header:\n",
    "\t\theader = metadata + \"|\"        \n",
    "\toutput.write('>'+header+'\\n'+sequence+'\\n') # '\\n' inserts a new line \n",
    "\n",
    "for entry in seq_list:\n",
    "    SeqIO.write(entry, output, 'fasta')"
   ]
  },
  {
   "cell_type": "code",
   "execution_count": 8,
   "metadata": {
    "collapsed": false
   },
   "outputs": [
    {
     "data": {
      "text/plain": [
       "'/Users/natalieboesen/Documents/chikv/Alignments'"
      ]
     },
     "execution_count": 8,
     "metadata": {},
     "output_type": "execute_result"
    }
   ],
   "source": []
  },
  {
   "cell_type": "code",
   "execution_count": 17,
   "metadata": {
    "collapsed": false
   },
   "outputs": [
    {
     "name": "stdout",
     "output_type": "stream",
     "text": [
      "1978_09_01_extraction\n",
      "1956_04_extraction\n",
      "NA_extraction\n",
      "2008_12_extraction\n",
      "2012_09_extraction\n",
      "2012_09_extraction\n",
      "2012_10_extraction\n",
      "NA_extraction\n",
      "NA_extraction\n",
      "2013_10_extraction\n",
      "2013_10_extraction\n",
      "2013_11_extraction\n",
      "2013_11_extraction\n",
      "2014_12_09_extraction\n",
      "2015_02_extraction\n",
      "2014_09_29_extraction\n",
      "2014_09_12_extraction\n",
      "2014_10_01_extraction\n",
      "2014_03_extraction\n",
      "2014_09_17_extraction\n",
      "2014_05_30_extraction\n",
      "2014_extraction\n",
      "2014_extraction\n",
      "2014_10_01_extraction\n",
      "2014_10_01_extraction\n",
      "2014_extraction\n",
      "2014_11_extraction\n",
      "2014_10_extraction\n",
      "2014_05_27_extraction\n",
      "2014_extraction\n",
      "2011_02_28_extraction\n",
      "2011_02_28_extraction\n",
      "2014_03_25_extraction\n",
      "2014_03_20_extraction\n",
      "NA_extraction\n",
      "2007_extraction\n",
      "2009_extraction\n",
      "2008_extraction\n",
      "2009_extraction\n",
      "1966_11_extraction\n"
     ]
    }
   ],
   "source": [
    "from Bio import SeqIO # Biopython is great for parsing sequence files. Import the part we need (SeqIO).\n",
    "import os\n",
    "os.chdir('../Alignments')\n",
    "\n",
    "input = open('original subsample extraction for E1 Gene.fasta copy', 'r') # Open your sequence file in read mode ('r'). Put the script.py and the input.fasta in the same directory.\n",
    "output = open('extraction E1 fixed year.fasta', 'w') # Open a file in write mode ('w') to put the output.\n",
    "\n",
    "seqlist = []\n",
    "for entry in SeqIO.parse(input, 'fasta'): # Parse each sequence in the input file; tell biopython to expect fasta format.\n",
    "\tseqlist.append(entry) # Add this sequence object to our list\n",
    "\n",
    "for entry in seqlist: # Each sequence object has some attributes stored that we want to access. \t\n",
    "\theader = entry.description  # This is an instance of `object.attribute` syntax; it will pull the sequence object, and look for the header attached to it\n",
    "\tsequence = str(entry.seq) # Pull the sequence information; another instance of `object.attribute` \n",
    "\theader = header.split('|') # accessionNumber|blah|blah|...|country|year --> [ accessionNumber, blah, blah, ..., country, year]\n",
    "\tyear = header[-1] # need to look just for year, not month or day \n",
    "\tprint year"
   ]
  },
  {
   "cell_type": "code",
   "execution_count": null,
   "metadata": {
    "collapsed": true
   },
   "outputs": [],
   "source": []
  }
 ],
 "metadata": {
  "kernelspec": {
   "display_name": "Python 2",
   "language": "python",
   "name": "python2"
  },
  "language_info": {
   "codemirror_mode": {
    "name": "ipython",
    "version": 2
   },
   "file_extension": ".py",
   "mimetype": "text/x-python",
   "name": "python",
   "nbconvert_exporter": "python",
   "pygments_lexer": "ipython2",
   "version": "2.7.12"
  }
 },
 "nbformat": 4,
 "nbformat_minor": 0
}
