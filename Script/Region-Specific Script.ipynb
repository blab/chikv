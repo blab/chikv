{
 "cells": [
  {
   "cell_type": "code",
   "execution_count": 2,
   "metadata": {
    "collapsed": false
   },
   "outputs": [],
   "source": [
    "from Bio import SeqIO # Biopython is great for parsing sequence files. Import the part we need (SeqIO).\n",
    "import os\n",
    "os.chdir('../Alignments')\n",
    "\n",
    "input_1 = open('AfricaGenomeFastaResults.fasta copy', 'r') # Open your sequence file in read mode ('r'). Put the script.py and the input.fasta in the same directory.\n",
    "input_2 = open('OceaniaGenomeFastaResults.fasta copy', 'r')\n",
    "input_3 = open('nAmericaGenomeFastaResults.fasta copy', 'r')\n",
    "output = open('3_regions_more_sequences.fasta', 'w') # Open a file, named 'host_mtdna.fasta', in write mode ('w') to put the output.\n",
    "\n",
    "\n",
    "\n",
    "\n",
    "africa_sequences = []\n",
    "oceania_sequences = []\n",
    "n_america_sequences = []\n",
    "\n",
    "for entry in SeqIO.parse(input_1, 'fasta'): # Parse each sequence in the input file; tell biopython to expect fasta format.\n",
    "\tafrica_sequences.append(entry) # Add this sequence object to our list\n",
    "\n",
    "for entry in SeqIO.parse(input_2, 'fasta'):  \n",
    "    oceania_sequences.append(entry)\n",
    " \n",
    "for entry in SeqIO.parse(input_3, 'fasta'):\n",
    "    n_america_sequences.append(entry)\n",
    "\n",
    "master_list = []\n",
    "def subsample(sequence):\n",
    "\timport random\n",
    "\tsubsample = random.sample(sequence, 50) # where k is the number of things you want to pull from each list\n",
    "\tmaster_list.append(subsample)\n",
    "\n",
    "subsample(africa_sequences)\n",
    "subsample(n_america_sequences)\n",
    "\n",
    "master_list.append(oceania_sequences)\n",
    "\n",
    "for entry in master_list:\n",
    "    SeqIO.write(entry, output, 'fasta')\n",
    "  "
   ]
  },
  {
   "cell_type": "code",
   "execution_count": null,
   "metadata": {
    "collapsed": true
   },
   "outputs": [],
   "source": []
  }
 ],
 "metadata": {
  "kernelspec": {
   "display_name": "Python 2",
   "language": "python",
   "name": "python2"
  },
  "language_info": {
   "codemirror_mode": {
    "name": "ipython",
    "version": 2
   },
   "file_extension": ".py",
   "mimetype": "text/x-python",
   "name": "python",
   "nbconvert_exporter": "python",
   "pygments_lexer": "ipython2",
   "version": "2.7.12"
  }
 },
 "nbformat": 4,
 "nbformat_minor": 0
}
