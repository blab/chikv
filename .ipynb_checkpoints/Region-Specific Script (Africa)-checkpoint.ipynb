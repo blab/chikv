{
 "cells": [
  {
   "cell_type": "code",
   "execution_count": 22,
   "metadata": {
    "collapsed": false
   },
   "outputs": [],
   "source": [
    "from Bio import SeqIO # Biopython is great for parsing sequence files. Import the part we need (SeqIO).\n",
    "\n",
    "input_1 = open('AfricaGenomeFastaResults.fasta copy', 'r') # Open your sequence file in read mode ('r'). Put the script.py and the input.fasta in the same directory.\n",
    "input_2 = open('OceaniaGenomeFastaResults.fasta copy', 'r')\n",
    "input_3 = open('nAmericaGenomeFastaResults.fasta copy', 'r')\n",
    "output = open('host_mtdna.fasta', 'w') # Open a file, named 'host_mtdna.fasta', in write mode ('w') to put the output.\n",
    "\n",
    "\n",
    "\n",
    "\n",
    "africa_sequences = []\n",
    "oceania_sequences = []\n",
    "n_america_sequences = []\n",
    "\n",
    "for entry in SeqIO.parse(input_1, 'fasta'): # Parse each sequence in the input file; tell biopython to expect fasta format.\n",
    "\tafrica_sequences.append(entry) # Add this sequence object to our list\n",
    "\n",
    "for entry in SeqIO.parse(input_2, 'fasta'):  \n",
    "    oceania_sequences.append(entry)\n",
    " \n",
    "for entry in SeqIO.parse(input_3, 'fasta'):\n",
    "    n_america_sequences.append(entry)\n",
    "\n",
    "master_list = []\n",
    "def subsample(sequence):\n",
    "\timport random\n",
    "\tsubsample = random.sample(sequence, 15) # where k is the number of things you want to pull from each list\n",
    "\tmaster_list.append(subsample)\n",
    "\n",
    "subsample(africa_sequences)\n",
    "subsample(oceania_sequences)\n",
    "subsample(n_america_sequences)\n",
    "\n",
    "# print master_list\n",
    "\n",
    "for entry in master_list:\n",
    "    SeqIO.write(entry, output, 'fasta')\n",
    "\n",
    "    \n",
    "    "
   ]
  },
  {
   "cell_type": "code",
   "execution_count": 14,
   "metadata": {
    "collapsed": false
   },
   "outputs": [
    {
     "ename": "NameError",
     "evalue": "name 'inputlist' is not defined",
     "output_type": "error",
     "traceback": [
      "\u001b[0;31m---------------------------------------------------------------------------\u001b[0m",
      "\u001b[0;31mNameError\u001b[0m                                 Traceback (most recent call last)",
      "\u001b[0;32m<ipython-input-14-d77feb6b3f7e>\u001b[0m in \u001b[0;36m<module>\u001b[0;34m()\u001b[0m\n\u001b[1;32m      1\u001b[0m \u001b[0;32mimport\u001b[0m \u001b[0mrandom\u001b[0m\u001b[0;34m\u001b[0m\u001b[0m\n\u001b[0;32m----> 2\u001b[0;31m \u001b[0msubsample\u001b[0m \u001b[0;34m=\u001b[0m \u001b[0mrandom\u001b[0m\u001b[0;34m.\u001b[0m\u001b[0msample\u001b[0m\u001b[0;34m(\u001b[0m\u001b[0minputlist\u001b[0m\u001b[0;34m,\u001b[0m \u001b[0mk\u001b[0m\u001b[0;34m)\u001b[0m \u001b[0;31m# where k is the number of things you want to pull from each list\u001b[0m\u001b[0;34m\u001b[0m\u001b[0m\n\u001b[0m\u001b[1;32m      3\u001b[0m \u001b[0;34m\u001b[0m\u001b[0m\n\u001b[1;32m      4\u001b[0m \u001b[0;32mprint\u001b[0m \u001b[0msubsample\u001b[0m\u001b[0;34m\u001b[0m\u001b[0m\n",
      "\u001b[0;31mNameError\u001b[0m: name 'inputlist' is not defined"
     ]
    }
   ],
   "source": []
  },
  {
   "cell_type": "code",
   "execution_count": null,
   "metadata": {
    "collapsed": true
   },
   "outputs": [],
   "source": []
  }
 ],
 "metadata": {
  "kernelspec": {
   "display_name": "Python 2",
   "language": "python",
   "name": "python2"
  },
  "language_info": {
   "codemirror_mode": {
    "name": "ipython",
    "version": 2
   },
   "file_extension": ".py",
   "mimetype": "text/x-python",
   "name": "python",
   "nbconvert_exporter": "python",
   "pygments_lexer": "ipython2",
   "version": "2.7.12"
  }
 },
 "nbformat": 4,
 "nbformat_minor": 0
}
