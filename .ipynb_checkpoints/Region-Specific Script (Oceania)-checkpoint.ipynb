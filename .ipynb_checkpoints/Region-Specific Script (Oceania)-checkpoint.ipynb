{
 "cells": [
  {
   "cell_type": "code",
   "execution_count": 1,
   "metadata": {
    "collapsed": false
   },
   "outputs": [
    {
     "name": "stdout",
     "output_type": "stream",
     "text": [
      "done. wrote 15 sequences to file.\n"
     ]
    }
   ],
   "source": [
    "from Bio import SeqIO # Biopython is great for parsing sequence files. Import the part we need (SeqIO).\n",
    "\n",
    "input = open('OceaniaGenomeFastaResults.fasta copy', 'r') # Open your sequence file in read mode ('r'). Put the script.py and the input.fasta in the same directory.\n",
    "output = open('host_mtdna.fasta', 'w') # Open a file, named 'host_mtdna.fasta', in write mode ('w') to put the output.\n",
    "region = 'oceania' # lowercase_nospaces\n",
    "\n",
    "\n",
    "seqlist = [] # Empty list to hold the sequence objects\n",
    "\n",
    "for entry in SeqIO.parse(input, 'fasta'): # Parse each sequence in the input file; tell biopython to expect fasta format.\n",
    "\tseqlist.append(entry) # Add this sequence object to our list\n",
    "\n",
    "\n",
    "counter = 0 # Keep track of how many sequences matched\n",
    "for entry in seqlist: # Each sequence object has some attributes stored that we want to access. \t\n",
    "\theader = entry.description  # This is an instance of `object.attribute` syntax; it will pull the sequence object, and look for the header attached to it\n",
    "\tsequence = str(entry.seq) # Pull the sequence information; another instance of `object.attribute`\n",
    "\t\n",
    "\tnew_header = header + \"|\" + region  \n",
    "\t'''Can you figure out how to combine the existing header and the `region` string from above?''' \n",
    "\n",
    "\toutput.write('>'+new_header+'\\n'+sequence+'\\n') # '\\n' inserts a new line \n",
    "\t''' Write the \n",
    "\t\n",
    "\t>new_header\n",
    "\tsequence\n",
    "\t\n",
    "\tto file '''\n",
    "\tcounter += 1\n",
    "\t\t\n",
    "# Then it will move on to the next sequence object and keep going until you finish all the sequences.\n",
    "\n",
    "print 'done. wrote ' + str(counter) + ' sequences to file.' # Print how many interesting sequences we found. "
   ]
  },
  {
   "cell_type": "code",
   "execution_count": null,
   "metadata": {
    "collapsed": true
   },
   "outputs": [],
   "source": []
  }
 ],
 "metadata": {
  "kernelspec": {
   "display_name": "Python 2",
   "language": "python",
   "name": "python2"
  },
  "language_info": {
   "codemirror_mode": {
    "name": "ipython",
    "version": 2
   },
   "file_extension": ".py",
   "mimetype": "text/x-python",
   "name": "python",
   "nbconvert_exporter": "python",
   "pygments_lexer": "ipython2",
   "version": "2.7.12"
  }
 },
 "nbformat": 4,
 "nbformat_minor": 0
}
