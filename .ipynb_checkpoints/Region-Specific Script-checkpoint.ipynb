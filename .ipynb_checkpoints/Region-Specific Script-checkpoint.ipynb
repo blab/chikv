{
 "cells": [
  {
   "cell_type": "code",
   "execution_count": 2,
   "metadata": {
    "collapsed": false
   },
   "outputs": [
    {
     "name": "stdout",
     "output_type": "stream",
     "text": [
      "[[SeqRecord(seq=Seq('ACGTAGCCTACCAGTTTCTTACTGCTCTACTCTGCTTAGCAAGAGACTTGAGAA...AAC', SingleLetterAlphabet()), id='HM045804|IPD/A_SH_2807|Senegal|NA', name='HM045804|IPD/A_SH_2807|Senegal|NA', description='HM045804|IPD/A_SH_2807|Senegal|NA', dbxrefs=[]), SeqRecord(seq=Seq('CAAAGCAAGAGATTAATAACCCATCATGGATCCTGTGTACGTGGACATAGACGC...ATC', SingleLetterAlphabet()), id='AM258992|06_021|Reunion|NA', name='AM258992|06_021|Reunion|NA', description='AM258992|06_021|Reunion|NA', dbxrefs=[]), SeqRecord(seq=Seq('ACGTAGCCTACCAGTTTCTTACTGCTCTACTCTGCAAAGCAAGAGATTAAGAAC...AAC', SingleLetterAlphabet()), id='HM045822|HB78|Central_African_Republic|1978_10', name='HM045822|HB78|Central_African_Republic|1978_10', description='HM045822|HB78|Central_African_Republic|1978_10', dbxrefs=[]), SeqRecord(seq=Seq('ACGTAGCCTACCAGTTTCTTACTGCTCTACTCTGCTTAGCAAGAGACTTGAGAA...TGT', SingleLetterAlphabet()), id='HM045807|IbAn4824|Nigeria|1965_04_13', name='HM045807|IbAn4824|Nigeria|1965_04_13', description='HM045807|IbAn4824|Nigeria|1965_04_13', dbxrefs=[]), SeqRecord(seq=Seq('GAGTAAAGACGTCTATGCTAATACACAACTGGTACTGCAGAGACCGGCTGCGGG...GGT', SingleLetterAlphabet()), id='EF193854|D933/06|Seychelles|2006_04', name='EF193854|D933/06|Seychelles|2006_04', description='EF193854|D933/06|Seychelles|2006_04', dbxrefs=[]), SeqRecord(seq=Seq('GCGGTACAGCAGAGTGCAAGGACAAAAACCTACCTGACTACAGCTGTAAGGTCT...CAC', SingleLetterAlphabet()), id='KF925297|HB78P613|Central_African_Republic|1978_09_01', name='KF925297|HB78P613|Central_African_Republic|1978_09_01', description='KF925297|HB78P613|Central_African_Republic|1978_09_01', dbxrefs=[]), SeqRecord(seq=Seq('GATGGTGGGTATGGCAGTGGGGATGTGCATGTGTGCACGACGCAGATGCATCAC...GGG', SingleLetterAlphabet()), id='EU403052|UNKNOWN_EU403052|Gabon|2007_07', name='EU403052|UNKNOWN_EU403052|Gabon|2007_07', description='EU403052|UNKNOWN_EU403052|Gabon|2007_07', dbxrefs=[]), SeqRecord(seq=Seq('GCTGCGGTACAGCAGAGTGCAAGGACAAAAACCTACCTGACTACAGCTGTAAGG...CTG', SingleLetterAlphabet()), id='KF925290|ArB18816|Central_African_Republic|1981_08_01', name='KF925290|ArB18816|Central_African_Republic|1981_08_01', description='KF925290|ArB18816|Central_African_Republic|1981_08_01', dbxrefs=[]), SeqRecord(seq=Seq('GCTGCGGTACAGCAGAGTGCAAGGACAAAAACCTACCTGACTACAGCTGTAAGG...CTG', SingleLetterAlphabet()), id='KF925289|ArB10238|Central_African_Republic|1978_08_24', name='KF925289|ArB10238|Central_African_Republic|1978_08_24', description='KF925289|ArB10238|Central_African_Republic|1978_08_24', dbxrefs=[]), SeqRecord(seq=Seq('GGCGCCTACTGCTTCTGCGACGCTGAAAACACGCAGTTGAGCGAAGCACACGTG...AGG', SingleLetterAlphabet()), id='DQ451150|MCF2006_OPY4|Mayotte|NA', name='DQ451150|MCF2006_OPY4|Mayotte|NA', description='DQ451150|MCF2006_OPY4|Mayotte|NA', dbxrefs=[]), SeqRecord(seq=Seq('GCTGCGGTACAGCAGAGTGCAAGGACAAAAACCTACCTGACTACAGCTGTAAGG...CTG', SingleLetterAlphabet()), id='KF925287|A6508|Central_African_Republic|1975_06_20', name='KF925287|A6508|Central_African_Republic|1975_06_20', description='KF925287|A6508|Central_African_Republic|1975_06_20', dbxrefs=[]), SeqRecord(seq=Seq('ACTATCAGCTGCTACAAGCATCCTTAACATGTTCTCCCCACCGCCAGCGACGCA...GGT', SingleLetterAlphabet()), id='KF925304|ArB10238|Central_African_Republic|1978_08_24', name='KF925304|ArB10238|Central_African_Republic|1978_08_24', description='KF925304|ArB10238|Central_African_Republic|1978_08_24', dbxrefs=[]), SeqRecord(seq=Seq('GCGGTACAGCAGAGTGCAAGGACAAAAACCTACCTGACTACAGCTGTAAGGTCT...TGT', SingleLetterAlphabet()), id='KF925295|HB82P18|Central_African_Republic|1982_02_16', name='KF925295|HB82P18|Central_African_Republic|1982_02_16', description='KF925295|HB82P18|Central_African_Republic|1982_02_16', dbxrefs=[]), SeqRecord(seq=Seq('TACGAACACGTAACAGTGATCCCGAACACGGTGGGAGTACCGTATAAGACTCTT...CAC', SingleLetterAlphabet()), id='JQ943712|PM201800|Senegal|2009', name='JQ943712|PM201800|Senegal|2009', description='JQ943712|PM201800|Senegal|2009', dbxrefs=[]), SeqRecord(seq=Seq('ACGTAGCCTACCAGTTTCTTACTGCTCTACTCTGCTTAGCAAGAGACTTGAGAA...AAC', SingleLetterAlphabet()), id='HM045816|SH_3013|Senegal|1966_11_23', name='HM045816|SH_3013|Senegal|1966_11_23', description='HM045816|SH_3013|Senegal|1966_11_23', dbxrefs=[])], [SeqRecord(seq=Seq('ATGGCTGCGTGAGACACACGTAGCCTACTAGTTTCTTACTGCTCTACTCTGCAA...AAA', SingleLetterAlphabet()), id='KJ689452|Yap_13_2039|Micronesia|2013_11', name='KJ689452|Yap_13_2039|Micronesia|2013_11', description='KJ689452|Yap_13_2039|Micronesia|2013_11', dbxrefs=[]), SeqRecord(seq=Seq('ATGGCTGCGTGAGACACACGTAGCCTACTAGTTTCTTACTGCTCTACTCTGCAA...TTT', SingleLetterAlphabet()), id='KJ451622|3807|Micronesia|2013_10', name='KJ451622|3807|Micronesia|2013_10', description='KJ451622|3807|Micronesia|2013_10', dbxrefs=[]), SeqRecord(seq=Seq('ATGGCTGCGTGAGACACACGTAGCCTACTAGTTTCTTACTGCTCTACTCTGCAA...TTT', SingleLetterAlphabet()), id='KJ451623|3462|Micronesia|2013_10', name='KJ451623|3462|Micronesia|2013_10', description='KJ451623|3462|Micronesia|2013_10', dbxrefs=[]), SeqRecord(seq=Seq('ATGGCTGCGTGAGACACACGTAGCCTACCAGTTTCTTACTGCTCTACTCTGCAA...TTT', SingleLetterAlphabet()), id='KR559473|WHCHK4|French_Polynesia|2015_02', name='KR559473|WHCHK4|French_Polynesia|2015_02', description='KR559473|WHCHK4|French_Polynesia|2015_02', dbxrefs=[]), SeqRecord(seq=Seq('GCGGTACAGCAGAGTGTAAGGACAAGAGCCTACCTGATTACAGCTGTAAGGTCT...AAT', SingleLetterAlphabet()), id='KM985981|TO14_080414_3007|Tonga|2014_03_20', name='KM985981|TO14_080414_3007|Tonga|2014_03_20', description='KM985981|TO14_080414_3007|Tonga|2014_03_20', dbxrefs=[]), SeqRecord(seq=Seq('AGAAGTCCGAATCATGCAAAACAGAATTTGCATCAGCGTACAGGGCTCATACCG...GTG', SingleLetterAlphabet()), id='KC524771|VN064|Papua_New_Guinea|2012_09', name='KC524771|VN064|Papua_New_Guinea|2012_09', description='KC524771|VN064|Papua_New_Guinea|2012_09', dbxrefs=[]), SeqRecord(seq=Seq('TCCGTACGTGAAATGCTGCGGTACAGCAGAGTGTAAGGACAAGAGCCTACCTGA...AAG', SingleLetterAlphabet()), id='KM985619|PF14_290914_16|French_Polynesia|2014_09_29', name='KM985619|PF14_290914_16|French_Polynesia|2014_09_29', description='KM985619|PF14_290914_16|French_Polynesia|2014_09_29', dbxrefs=[]), SeqRecord(seq=Seq('ATGGCTGCGTGAGACACACGTAGCCTACTAGTTTCTTACTGCTCTACTCTGCAA...AAA', SingleLetterAlphabet()), id='KJ689453|Yap_13_2148|Micronesia|2013_11', name='KJ689453|Yap_13_2148|Micronesia|2013_11', description='KJ689453|Yap_13_2148|Micronesia|2013_11', dbxrefs=[]), SeqRecord(seq=Seq('TACGAACACGTAACAGTGATCCCGAACACGGTGGGAGTACCGTATAAGACTCTA...TAA', SingleLetterAlphabet()), id='HE578162|NC/2011_568|New_Caledonia|2011_02_28', name='HE578162|NC/2011_568|New_Caledonia|2011_02_28', description='HE578162|NC/2011_568|New_Caledonia|2011_02_28', dbxrefs=[]), SeqRecord(seq=Seq('ACGTGAAATGCTGCGGTACAGCAGAGTGTAAGGACAAGAGCCTACCTGATTACA...AAT', SingleLetterAlphabet()), id='KM985982|TO14_080414_3042|Tonga|2014_03_25', name='KM985982|TO14_080414_3042|Tonga|2014_03_25', description='KM985982|TO14_080414_3042|Tonga|2014_03_25', dbxrefs=[]), SeqRecord(seq=Seq('ATGGAGTTCATCCCAACCCAAACTTTTTACAATAGGAGGTACCAGCCTCGACCC...CAC', SingleLetterAlphabet()), id='GQ168719|Mal2008|Australia|2008_12', name='GQ168719|Mal2008|Australia|2008_12', description='GQ168719|Mal2008|Australia|2008_12', dbxrefs=[]), SeqRecord(seq=Seq('AGAAGTCCGAATCATGCAAAACAGAATTTGCATCAGCGTACAGGGCTCATACCG...GTG', SingleLetterAlphabet()), id='KC524772|VN083|Papua_New_Guinea|2012_10', name='KC524772|VN083|Papua_New_Guinea|2012_10', description='KC524772|VN083|Papua_New_Guinea|2012_10', dbxrefs=[]), SeqRecord(seq=Seq('ACGTAGCCTACCAGTTTCTTACTGCTCTACTCTGCAAAGCAAGAGATTAATAAC...AAA', SingleLetterAlphabet()), id='HE806461|NC/2011_568|New_Caledonia|2011_02_28', name='HE806461|NC/2011_568|New_Caledonia|2011_02_28', description='HE806461|NC/2011_568|New_Caledonia|2011_02_28', dbxrefs=[]), SeqRecord(seq=Seq('AAATGCTGCGGTACGGCAGAGTGTAAGGACAAGAGCCTACCTGATTACAGCTGT...GAA', SingleLetterAlphabet()), id='KJ939333|PF14_270514_51impGP|French_Polynesia|2014_05_27', name='KJ939333|PF14_270514_51impGP|French_Polynesia|2014_05_27', description='KJ939333|PF14_270514_51impGP|French_Polynesia|2014_05_27', dbxrefs=[]), SeqRecord(seq=Seq('AGAAGTCCGAATCATGCAAAACAGAATTTGCATCAGCGTACAGGGCTCATACCG...GTG', SingleLetterAlphabet()), id='KC524770|VN033|Papua_New_Guinea|2012_09', name='KC524770|VN033|Papua_New_Guinea|2012_09', description='KC524770|VN033|Papua_New_Guinea|2012_09', dbxrefs=[])], [SeqRecord(seq=Seq('ATGGCTGCGTGAGACACACGTAGCCTACCAGTTTCTTACTGCTCTACTCTGCAA...TTC', SingleLetterAlphabet()), id='EF452494|TSI_GSD_218_VR1|USA|NA', name='EF452494|TSI_GSD_218_VR1|USA|NA', description='EF452494|TSI_GSD_218_VR1|USA|NA', dbxrefs=[]), SeqRecord(seq=Seq('GTGAGACACACGTAGCCTACCAGTTTCTTACTGCTCTACTCTGCAAAGCAAGAG...AAT', SingleLetterAlphabet()), id='KT327164|CH0045|Mexico|2014', name='KT327164|CH0045|Mexico|2014', description='KT327164|CH0045|Mexico|2014', dbxrefs=[]), SeqRecord(seq=Seq('ATGGCTGCGTGAGACACACGTAGCCTACCAGTTTCTTACTGCTCTACTCTGCAA...AGA', SingleLetterAlphabet()), id='KP851709|InDRE_51CHIK|Mexico|2014_10_15', name='KP851709|InDRE_51CHIK|Mexico|2014_10_15', description='KP851709|InDRE_51CHIK|Mexico|2014_10_15', dbxrefs=[]), SeqRecord(seq=Seq('GTACTGAGCGTCGGTGCCCACACTGTGAGCGCGTACGAACACGTAACAGTGATC...TAA', SingleLetterAlphabet()), id='KT192733|7448|Nicaragua|2015_02_05', name='KT192733|7448|Nicaragua|2015_02_05', description='KT192733|7448|Nicaragua|2015_02_05', dbxrefs=[]), SeqRecord(seq=Seq('ATGGCTGCGTGAGACACACGTAGCCTACCAGTTTCTTACTGCTCTACTCTGCAA...TTT', SingleLetterAlphabet()), id='KR559488|WHCHK19|Honduras|2014_09', name='KR559488|WHCHK19|Honduras|2014_09', description='KR559488|WHCHK19|Honduras|2014_09', dbxrefs=[]), SeqRecord(seq=Seq('ATGGCTGCGTGAGACACACGTAGCCTACCAGTTTCTTACTGCTCTACTCTGCAA...TTT', SingleLetterAlphabet()), id='KR559470|WHCHK1|USA|2014_11', name='KR559470|WHCHK1|USA|2014_11', description='KR559470|WHCHK1|USA|2014_11', dbxrefs=[]), SeqRecord(seq=Seq('GTACACATGCCCCCAGACACCCCAGATCGCACATTAATGTCACAACAGTCCGGC...TAG', SingleLetterAlphabet()), id='KT247384|TA0005|Mexico|2014', name='KT247384|TA0005|Mexico|2014', description='KT247384|TA0005|Mexico|2014', dbxrefs=[]), SeqRecord(seq=Seq('GTGAGACACACGTAGCCTACCAGTTTCTTACTGCTCTACTCTGCAAAGCAAGAG...TTT', SingleLetterAlphabet()), id='KR046231|VE54_20|Trinidad_and_Tobago|2014_11_09', name='KR046231|VE54_20|Trinidad_and_Tobago|2014_11_09', description='KR046231|VE54_20|Trinidad_and_Tobago|2014_11_09', dbxrefs=[]), SeqRecord(seq=Seq('ATGGCTGCGTGAGACACACGTAGCCTACCAGTTTCTTACTGCTCTACTCTGCAA...ATT', SingleLetterAlphabet()), id='KR559495|WHCHK26|USA|2014_07', name='KR559495|WHCHK26|USA|2014_07', description='KR559495|WHCHK26|USA|2014_07', dbxrefs=[]), SeqRecord(seq=Seq('ATGGCTGCGTGAGACACACGTAGCCTACCAGTTTCTTACTGCTCTACTCTGCAA...AAT', SingleLetterAlphabet()), id='KR559481|WHCHK12|Guatemala|2014_09', name='KR559481|WHCHK12|Guatemala|2014_09', description='KR559481|WHCHK12|Guatemala|2014_09', dbxrefs=[]), SeqRecord(seq=Seq('ATGGCTGCGTGAGACACACGTAGCCTACCAGTTTCTTACTGCTCTACTCTGCAA...TTT', SingleLetterAlphabet()), id='KR559494|WHCHK25|USA|2014_07', name='KR559494|WHCHK25|USA|2014_07', description='KR559494|WHCHK25|USA|2014_07', dbxrefs=[]), SeqRecord(seq=Seq('GTACTGAGCGTCGGTGCCCACACTGTGAGCGCGTACGAACACGTAACAGTGATC...TAA', SingleLetterAlphabet()), id='KT192727|1807|Nicaragua|2014_12_09', name='KT192727|1807|Nicaragua|2014_12_09', description='KT192727|1807|Nicaragua|2014_12_09', dbxrefs=[]), SeqRecord(seq=Seq('ATGGCTGCGTGAGACACACGTAGCCTACCAGTTTCTTACTGCTCTACTCTGCAA...ATT', SingleLetterAlphabet()), id='KR559471|WHCHK2|El_Salvador|2014_10', name='KR559471|WHCHK2|El_Salvador|2014_10', description='KR559471|WHCHK2|El_Salvador|2014_10', dbxrefs=[]), SeqRecord(seq=Seq('AGAAGGAGATCAGGTTAACCGTGCCGACTGAGGGGCTCGAGGTCACGTGGGGTA...AAT', SingleLetterAlphabet()), id='KT444686|CHAeaegypti26|Mexico|2014_10_01', name='KT444686|CHAeaegypti26|Mexico|2014_10_01', description='KT444686|CHAeaegypti26|Mexico|2014_10_01', dbxrefs=[]), SeqRecord(seq=Seq('ATGGCTGCGTGAGACACACGTAGCCTACCAGTTTCTTACTGCTCTACTCTGCAA...TTC', SingleLetterAlphabet()), id='L37661|TSI_GSD_218|USA|NA', name='L37661|TSI_GSD_218|USA|NA', description='L37661|TSI_GSD_218|USA|NA', dbxrefs=[])]]\n"
     ]
    }
   ],
   "source": [
    "from Bio import SeqIO # Biopython is great for parsing sequence files. Import the part we need (SeqIO).\n",
    "\n",
    "input_1 = open('AfricaGenomeFastaResults.fasta copy', 'r') # Open your sequence file in read mode ('r'). Put the script.py and the input.fasta in the same directory.\n",
    "input_2 = open('OceaniaGenomeFastaResults.fasta copy', 'r')\n",
    "input_3 = open('nAmericaGenomeFastaResults.fasta copy', 'r')\n",
    "output = open('host_mtdna.fasta', 'w') # Open a file, named 'host_mtdna.fasta', in write mode ('w') to put the output.\n",
    "\n",
    "\n",
    "\n",
    "\n",
    "africa_sequences = []\n",
    "oceania_sequences = []\n",
    "n_america_sequences = []\n",
    "\n",
    "for entry in SeqIO.parse(input_1, 'fasta'): # Parse each sequence in the input file; tell biopython to expect fasta format.\n",
    "\tafrica_sequences.append(entry) # Add this sequence object to our list\n",
    "\n",
    "for entry in SeqIO.parse(input_2, 'fasta'):  \n",
    "    oceania_sequences.append(entry)\n",
    " \n",
    "for entry in SeqIO.parse(input_3, 'fasta'):\n",
    "    n_america_sequences.append(entry)\n",
    "\n",
    "master_list = []\n",
    "def subsample(sequence):\n",
    "\timport random\n",
    "\tsubsample = random.sample(sequence, 15) # where k is the number of things you want to pull from each list\n",
    "\tmaster_list.append(subsample)\n",
    "\n",
    "subsample(africa_sequences)\n",
    "subsample(oceania_sequences)\n",
    "subsample(n_america_sequences)\n",
    "\n",
    "for entry in master_list:\n",
    "    SeqIO.write(entry, output, 'fasta')\n",
    "  "
   ]
  },
  {
   "cell_type": "code",
   "execution_count": null,
   "metadata": {
    "collapsed": true
   },
   "outputs": [],
   "source": []
  }
 ],
 "metadata": {
  "kernelspec": {
   "display_name": "Python 2",
   "language": "python",
   "name": "python2"
  },
  "language_info": {
   "codemirror_mode": {
    "name": "ipython",
    "version": 2
   },
   "file_extension": ".py",
   "mimetype": "text/x-python",
   "name": "python",
   "nbconvert_exporter": "python",
   "pygments_lexer": "ipython2",
   "version": "2.7.12"
  }
 },
 "nbformat": 4,
 "nbformat_minor": 0
}
